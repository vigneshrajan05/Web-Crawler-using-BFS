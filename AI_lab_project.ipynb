{
  "nbformat": 4,
  "nbformat_minor": 0,
  "metadata": {
    "kernelspec": {
      "display_name": "Python 3",
      "language": "python",
      "name": "python3"
    },
    "language_info": {
      "codemirror_mode": {
        "name": "ipython",
        "version": 3
      },
      "file_extension": ".py",
      "mimetype": "text/x-python",
      "name": "python",
      "nbconvert_exporter": "python",
      "pygments_lexer": "ipython3",
      "version": "3.8.3"
    },
    "colab": {
      "name": "AI lab project.ipynb",
      "provenance": [],
      "collapsed_sections": []
    }
  },
  "cells": [
    {
      "cell_type": "markdown",
      "metadata": {
        "id": "t0v0cORmHVA_"
      },
      "source": [
        "## Importing the required modules"
      ]
    },
    {
      "cell_type": "code",
      "metadata": {
        "id": "gpKz595hVsfu"
      },
      "source": [
        "from urllib.request import urljoin\n",
        "from bs4 import BeautifulSoup\n",
        "import requests\n",
        "from urllib.request import urlparse\n",
        "import re\n",
        "from lxml import etree"
      ],
      "execution_count": null,
      "outputs": []
    },
    {
      "cell_type": "code",
      "metadata": {
        "id": "4aM3g_lsVsfx"
      },
      "source": [
        "input_url = \"https://www.boxofficemojo.com/year/\"\n",
        "no_of_years = 6\n",
        "no_of_movies = 3"
      ],
      "execution_count": null,
      "outputs": []
    },
    {
      "cell_type": "code",
      "metadata": {
        "colab": {
          "base_uri": "https://localhost:8080/"
        },
        "id": "x0QIaHtIVsfy",
        "outputId": "3b3468ce-d350-481d-ced8-8b286468476d"
      },
      "source": [
        "current_url_domain = urlparse(input_url).netloc\n",
        "print(current_url_domain)"
      ],
      "execution_count": null,
      "outputs": [
        {
          "output_type": "stream",
          "name": "stdout",
          "text": [
            "www.boxofficemojo.com\n"
          ]
        }
      ]
    },
    {
      "cell_type": "markdown",
      "metadata": {
        "id": "MK0ELf2FHoEm"
      },
      "source": [
        "## Extracting page content of Input URL "
      ]
    },
    {
      "cell_type": "code",
      "metadata": {
        "id": "XGqOqNDuVsf1"
      },
      "source": [
        "# The function returns a beautiful soup object containing the entire HTML content\n",
        "beautiful_soup_object = BeautifulSoup(requests.get(input_url).content, \"lxml\")"
      ],
      "execution_count": null,
      "outputs": []
    },
    {
      "cell_type": "code",
      "metadata": {
        "id": "qnkw4pW0Vsf1"
      },
      "source": [
        "queue = []\n",
        "links = beautiful_soup_object.findAll(\"a\")    # Since we only require Links to crawl, finding all anchor tags(a)"
      ],
      "execution_count": null,
      "outputs": []
    },
    {
      "cell_type": "code",
      "metadata": {
        "id": "tHhdvlS3aJKi"
      },
      "source": [
        "links"
      ],
      "execution_count": null,
      "outputs": []
    },
    {
      "cell_type": "code",
      "metadata": {
        "id": "-zoQAoYeVsf2"
      },
      "source": [
        "# From all links obtained, we only need the links of Years\n",
        "regex_expression = '/year/\\d\\d\\d\\d/.*'\n",
        "check = re.compile(regex_expression)\n",
        "count = 0\n",
        "\n",
        "for anchor in links:\n",
        "    href = anchor.attrs.get(\"href\")\n",
        "    s = str(href)\n",
        "    mo = check.search(s)              # takes matching objects   \n",
        "    \n",
        "    # Extracting years links from page1\n",
        "    if mo != None and count < no_of_years:\n",
        "        # print(mo.group(0))\n",
        "        queue.append(mo.group(0))\n",
        "        count = count + 1"
      ],
      "execution_count": null,
      "outputs": []
    },
    {
      "cell_type": "code",
      "metadata": {
        "colab": {
          "base_uri": "https://localhost:8080/"
        },
        "id": "SwGSjpm9Vsf3",
        "outputId": "d7faa5b0-2328-44cd-97b9-a42c7d0457ba"
      },
      "source": [
        "length_of_queue_at_end_of_depth0 = len(queue)\n",
        "print(queue)"
      ],
      "execution_count": null,
      "outputs": [
        {
          "output_type": "stream",
          "name": "stdout",
          "text": [
            "['/year/2021/?ref_=bo_yl_table_1', '/year/2020/?ref_=bo_yl_table_2', '/year/2019/?ref_=bo_yl_table_3', '/year/2018/?ref_=bo_yl_table_4', '/year/2017/?ref_=bo_yl_table_5', '/year/2016/?ref_=bo_yl_table_6']\n"
          ]
        }
      ]
    },
    {
      "cell_type": "code",
      "metadata": {
        "id": "bV-x_MuqVsf3"
      },
      "source": [
        "#depth 1\n",
        "i = 0\n",
        "while i < length_of_queue_at_end_of_depth0:\n",
        "    year = queue.pop(0)\n",
        "    year_link = urljoin(input_url, year)\n",
        "    \n",
        "    beautiful_soup_object = BeautifulSoup(requests.get(year_link).content, \"lxml\")\n",
        "    \n",
        "    regex_expression1 = '/release/.*' \n",
        "    check1 = re.compile(regex_expression1)\n",
        "    count = 0\n",
        "    \n",
        "    for anchor in beautiful_soup_object.findAll(\"a\"):\n",
        "        href = anchor.attrs.get(\"href\")\n",
        "        s = str(href)\n",
        "        mo = check1.search(s)\n",
        "        if mo != None and count < no_of_movies:\n",
        "            queue.append(mo.group(0))\n",
        "            count = count + 1\n",
        "        \n",
        "        elif count == no_of_movies:\n",
        "            break\n",
        "    \n",
        "    i = i + 1"
      ],
      "execution_count": null,
      "outputs": []
    },
    {
      "cell_type": "code",
      "metadata": {
        "colab": {
          "base_uri": "https://localhost:8080/"
        },
        "id": "4QGf3befVsf4",
        "outputId": "ef31bc39-ba5a-4660-af15-d2679fb350a1"
      },
      "source": [
        "print(len(queue))"
      ],
      "execution_count": null,
      "outputs": [
        {
          "output_type": "stream",
          "name": "stdout",
          "text": [
            "18\n"
          ]
        }
      ]
    },
    {
      "cell_type": "code",
      "metadata": {
        "colab": {
          "base_uri": "https://localhost:8080/",
          "height": 35
        },
        "id": "JBv3GMHwX5B0",
        "outputId": "3579de8f-cc2f-466e-a014-1604ca881ec1"
      },
      "source": [
        "input_url"
      ],
      "execution_count": null,
      "outputs": [
        {
          "output_type": "execute_result",
          "data": {
            "application/vnd.google.colaboratory.intrinsic+json": {
              "type": "string"
            },
            "text/plain": [
              "'https://www.boxofficemojo.com/year/'"
            ]
          },
          "metadata": {},
          "execution_count": 11
        }
      ]
    },
    {
      "cell_type": "code",
      "metadata": {
        "id": "U8xwwxrEVsf5"
      },
      "source": [
        "#depth2\n",
        "movie_links = []\n",
        "while len(queue) != 0:\n",
        "    movie = queue.pop(0)\n",
        "    # print(movie)\n",
        "    movie_links.append(urljoin(input_url, movie))\n",
        "    # print(movie_links)"
      ],
      "execution_count": null,
      "outputs": []
    },
    {
      "cell_type": "code",
      "metadata": {
        "id": "cY4dpFZM9chO"
      },
      "source": [
        "# Helper functions that capture and return the required regex groups\n",
        "def getDetails(movieDetails, regexp):\n",
        "  pattern = re.compile(regexp)\n",
        "  match = pattern.search(str(movieDetails))\n",
        "  if(match):\n",
        "    # print(match.group(1))\n",
        "    return match.group(1)\n",
        "  return None\n",
        "\n",
        "\n",
        "def getReleaseDate(movieDetails, regexp):\n",
        "  pattern = re.compile(regexp)\n",
        "  match = pattern.search(str(movieDetails))\n",
        "  if(match):\n",
        "    # print(match.group(2))\n",
        "    return match.group(2)\n",
        "  return None"
      ],
      "execution_count": null,
      "outputs": []
    },
    {
      "cell_type": "code",
      "metadata": {
        "id": "XMDGD8HQAuu3"
      },
      "source": [
        ""
      ],
      "execution_count": null,
      "outputs": []
    },
    {
      "cell_type": "code",
      "metadata": {
        "id": "tg-TAea7iKrQ"
      },
      "source": [
        "def crawlMovies(pageContents, currentPage):\n",
        "    titleObj = pageContents.findAll(\"h1\", {\"class\" : \"a-size-extra-large\"})\n",
        "    movieSummaryObj = pageContents.findAll(\"p\", {\"class\" : \"a-size-medium\"})\n",
        "    grossObj = pageContents.find(class_ = \"a-section a-spacing-none mojo-performance-summary-table\").find_all(class_ = \"money\")\n",
        "    \n",
        "\n",
        "    # print(titleObj)\n",
        "    # converting the page\n",
        "    # print(\"Current Page Link \" + currentPage)\n",
        "    \n",
        "    detailsObj = BeautifulSoup(requests.get(currentPage).content, \"lxml\")\n",
        "    dom = etree.HTML(str(detailsObj))\n",
        "\n",
        "    # Extracting inner text from title object\n",
        "    title = \"\"\n",
        "    for movieTitle in titleObj:\n",
        "      title += movieTitle.text\n",
        "\n",
        "    # print(\"Title   :\" + title)\n",
        "\n",
        "    # Extracting inner text from movieSummary object\n",
        "    movieSummary = \"\"\n",
        "    for summary in movieSummaryObj:\n",
        "      movieSummary += summary.text\n",
        "\n",
        "    # print(\"movieSummary   :\" + movieSummary)\n",
        "\n",
        "    # Extracting the world wide gross for the movie\n",
        "    worldWideGross = \"\";\n",
        "    for gross in grossObj:\n",
        "      worldWideGross = gross.text\n",
        "\n",
        "    movieDetails = pageContents.findAll(\"div\", {\"class\":\"a-section a-spacing-none mojo-summary-values mojo-hidden-from-mobile\"})\n",
        "    # print(movieDetails)\n",
        "\n",
        "    distributor = \"\"\n",
        "    distributorRegex = '<div class=\"a-section a-spacing-none\"><span>Distributor<\\/span><span>([a-zA-Z\\s()]+)'\n",
        "    distributor = getDetails(movieDetails, distributorRegex)\n",
        "    # print(distributor)\n",
        "\n",
        "    budget = \"\";\n",
        "    budgetRegex = '<div class=\"a-section a-spacing-none\"><span>Budget<\\/span><span><span class=\"money\">([a-zA-Z\\d$,]+)'\n",
        "    budget = getDetails(movieDetails, budgetRegex)\n",
        "    # print(budget)\n",
        "\n",
        "    releaseDate = \"\";\n",
        "    # releaseDateRegex = 'div class=\"a-section a-spacing-none\"><span>Release Date<\\/span><span><a class=\"a-link-normal\" href=\"\\/date\\/[\\d-]+\\/\\?ref_=bo_rl_rl\">([a-zA-Z\\s\\d,]+)'\n",
        "    releaseDateRegex = '<div class=\"a-section a-spacing-none\"><span>Release Date([a-zA-Z\\s()]+)?<\\/span><span><a class=\"a-link-normal\" href=\"\\/date\\/[\\d-]+\\/\\?ref_=bo_rl_rl\">([a-zA-Z\\s\\d,]+)'\n",
        "    releaseDate = getReleaseDate(movieDetails, releaseDateRegex)\n",
        "    # print(releaseDate)\n",
        "\n",
        "    genre = \"\"\n",
        "    genreRegex = '<div class=\"a-section a-spacing-none\"><span>Genres<\\/span><span>([a-zA-Z\\s-]+)'\n",
        "    genre = (getDetails(movieDetails, genreRegex)).strip()\n",
        "    \n",
        "    # Since genre is stored as newlines in page content, using regex to remove unwanted \\n and spaces\n",
        "    genre = re.sub('\\\\n\\\\s+', \",\", genre)\n",
        "    # print(genre)\n",
        "\n",
        "    runningTime = \"\"\n",
        "    runTimeRegex = '<div class=\"a-section a-spacing-none\"><span>Running Time<\\/span><span>([a-zA-Z0-9\\s]+)'\n",
        "    runningTime = getDetails(movieDetails, runTimeRegex)\n",
        "    # print(runningTime)\n",
        "\n",
        "\n",
        "    # Printing details of movies\n",
        "    print('Movie Name        : ' + title)\n",
        "    print('Movie Summary     : ' + movieSummary)\n",
        "    print('Distributor       : ' + distributor)\n",
        "    print('Release Date      : ' + releaseDate)\n",
        "    if(budget):\n",
        "      print('Movie Budget      : ' + budget)\n",
        "    print('Running Time      : ' + runningTime)\n",
        "    print('Genre             : ' + genre)\n",
        "    print('Worldwide Gross   : ' + worldWideGross)"
      ],
      "execution_count": null,
      "outputs": []
    },
    {
      "cell_type": "code",
      "metadata": {
        "id": "iEZSyDUGhJ_A",
        "colab": {
          "base_uri": "https://localhost:8080/"
        },
        "outputId": "fd5f2abf-a306-41f4-ff2a-4e8e166deb27"
      },
      "source": [
        "for currentPage in movie_links:\n",
        "  pageContents = BeautifulSoup(requests.get(currentPage).content, \"lxml\")\n",
        "  crawlMovies(pageContents, currentPage)\n",
        "  print(\"\\n\")\n",
        "  print('-'*200)\n",
        "  print(\"\\n\")"
      ],
      "execution_count": null,
      "outputs": [
        {
          "output_type": "stream",
          "name": "stdout",
          "text": [
            "[<h1 class=\"a-size-extra-large\">Shang-Chi and the Legend of the Ten Rings</h1>]\n",
            "Movie Name        : Shang-Chi and the Legend of the Ten Rings\n",
            "Movie Summary     : Shang-Chi, the master of weaponry-based Kung Fu, is forced to confront his past after being drawn into the Ten Rings organization.\n",
            "Distributor       : Walt Disney Studios Motion Pictures\n",
            "Release Date      : Sep 3, 2021\n",
            "Running Time      : 2 hr 12 min\n",
            "Genre             : Action,Adventure,Fantasy,Sci-Fi\n",
            "Worldwide Gross   : $430,523,828\n",
            "\n",
            "\n",
            "--------------------------------------------------------------------------------------------------------------------------------------------------------------------------------------------------------\n",
            "\n",
            "\n",
            "[<h1 class=\"a-size-extra-large\">Venom: Let There Be Carnage</h1>]\n",
            "Movie Name        : Venom: Let There Be Carnage\n",
            "Movie Summary     : Eddie Brock attempts to reignite his career by interviewing serial killer Cletus Kasady, who becomes the host of the symbiote Carnage and escapes prison after a failed execution.\n",
            "Distributor       : Sony Pictures Entertainment (SPE)\n",
            "Release Date      : Oct 1, 2021\n",
            "Running Time      : 1 hr 37 min\n",
            "Genre             : Action,Adventure,Sci-Fi,Thriller\n",
            "Worldwide Gross   : $441,507,190\n",
            "\n",
            "\n",
            "--------------------------------------------------------------------------------------------------------------------------------------------------------------------------------------------------------\n",
            "\n",
            "\n",
            "[<h1 class=\"a-size-extra-large\">Black Widow</h1>]\n",
            "Movie Name        : Black Widow\n",
            "Movie Summary     : Natasha Romanoff confronts the darker parts of her ledger when a dangerous conspiracy with ties to her past arises.\n",
            "Distributor       : Walt Disney Studios Motion Pictures\n",
            "Release Date      : Jul 9, 2021\n",
            "Running Time      : 2 hr 14 min\n",
            "Genre             : Action,Adventure,Sci-Fi\n",
            "Worldwide Gross   : $379,631,351\n",
            "\n",
            "\n",
            "--------------------------------------------------------------------------------------------------------------------------------------------------------------------------------------------------------\n",
            "\n",
            "\n",
            "[<h1 class=\"a-size-extra-large\">Bad Boys for Life</h1>]\n",
            "Movie Name        : Bad Boys for Life\n",
            "Movie Summary     : Miami detectives Mike Lowrey and Marcus Burnett must face off against a mother-and-son pair of drug lords who wreak vengeful havoc on their city.\n",
            "Distributor       : Sony Pictures Entertainment (SPE)\n",
            "Release Date      : Jan 17, 2020\n",
            "Movie Budget      : $90,000,000\n",
            "Running Time      : 2 hr 4 min\n",
            "Genre             : Action,Comedy,Crime,Thriller\n",
            "Worldwide Gross   : $426,505,244\n",
            "\n",
            "\n",
            "--------------------------------------------------------------------------------------------------------------------------------------------------------------------------------------------------------\n",
            "\n",
            "\n",
            "[<h1 class=\"a-size-extra-large\">1917</h1>]\n",
            "Movie Name        : 1917\n",
            "Movie Summary     : April 6th, 1917. As a regiment assembles to wage war deep in enemy territory, two soldiers are assigned to race against time and deliver a message that will stop 1,600 men from walking straight into a deadly trap.\n",
            "Distributor       : Universal Pictures\n",
            "Release Date      : Dec 25, 2019\n",
            "Movie Budget      : $95,000,000\n",
            "Running Time      : 1 hr 59 min\n",
            "Genre             : Action,Drama,War\n",
            "Worldwide Gross   : $384,979,149\n",
            "\n",
            "\n",
            "--------------------------------------------------------------------------------------------------------------------------------------------------------------------------------------------------------\n",
            "\n",
            "\n",
            "[<h1 class=\"a-size-extra-large\">Sonic the Hedgehog</h1>]\n",
            "Movie Name        : Sonic the Hedgehog\n",
            "Movie Summary     : After discovering a small, blue, fast hedgehog, a small-town police officer must help him defeat an evil genius who wants to do experiments on him.\n",
            "Distributor       : Paramount Pictures\n",
            "Release Date      : Feb 14, 2020\n",
            "Movie Budget      : $85,000,000\n",
            "Running Time      : 1 hr 39 min\n",
            "Genre             : Action,Adventure,Comedy,Sci-Fi\n",
            "Worldwide Gross   : $319,715,683\n",
            "\n",
            "\n",
            "--------------------------------------------------------------------------------------------------------------------------------------------------------------------------------------------------------\n",
            "\n",
            "\n",
            "[<h1 class=\"a-size-extra-large\">Avengers: Endgame</h1>]\n",
            "Movie Name        : Avengers: Endgame\n",
            "Movie Summary     : After the devastating events of Avengers: Infinity War, the universe is in ruins. With the help of remaining allies, the Avengers assemble once more in order to reverse Thanos' actions and restore balance to the universe.\n",
            "Distributor       : Walt Disney Studios Motion Pictures\n",
            "Release Date      : Apr 26, 2019\n",
            "Movie Budget      : $356,000,000\n",
            "Running Time      : 3 hr 1 min\n",
            "Genre             : Action,Adventure,Drama,Sci-Fi\n",
            "Worldwide Gross   : $2,797,501,328\n",
            "\n",
            "\n",
            "--------------------------------------------------------------------------------------------------------------------------------------------------------------------------------------------------------\n",
            "\n",
            "\n",
            "[<h1 class=\"a-size-extra-large\">The Lion King</h1>]\n",
            "Movie Name        : The Lion King\n",
            "Movie Summary     : After the murder of his father, a young lion prince flees his kingdom only to learn the true meaning of responsibility and bravery.\n",
            "Distributor       : Walt Disney Studios Motion Pictures\n",
            "Release Date      : Jul 19, 2019\n",
            "Movie Budget      : $260,000,000\n",
            "Running Time      : 1 hr 58 min\n",
            "Genre             : Adventure,Animation,Drama,Family,Musical\n",
            "Worldwide Gross   : $1,656,943,394\n",
            "\n",
            "\n",
            "--------------------------------------------------------------------------------------------------------------------------------------------------------------------------------------------------------\n",
            "\n",
            "\n",
            "[<h1 class=\"a-size-extra-large\">Toy Story 4</h1>]\n",
            "Movie Name        : Toy Story 4\n",
            "Movie Summary     : When a new toy called \"Forky\" joins Woody and the gang, a road trip alongside old and new friends reveals how big the world can be for a toy.\n",
            "Distributor       : Walt Disney Studios Motion Pictures\n",
            "Release Date      : Jun 21, 2019\n",
            "Movie Budget      : $200,000,000\n",
            "Running Time      : 1 hr 40 min\n",
            "Genre             : Adventure,Animation,Comedy,Family,Fantasy\n",
            "Worldwide Gross   : $1,073,394,593\n",
            "\n",
            "\n",
            "--------------------------------------------------------------------------------------------------------------------------------------------------------------------------------------------------------\n",
            "\n",
            "\n",
            "[<h1 class=\"a-size-extra-large\">Black Panther</h1>]\n",
            "Movie Name        : Black Panther\n",
            "Movie Summary     : T'Challa, heir to the hidden but advanced kingdom of Wakanda, must step forward to lead his people into a new future and must confront a challenger from his country's past.\n",
            "Distributor       : Walt Disney Studios Motion Pictures\n",
            "Release Date      : Feb 16, 2018\n",
            "Running Time      : 2 hr 14 min\n",
            "Genre             : Action,Adventure,Sci-Fi\n",
            "Worldwide Gross   : $1,346,913,161\n",
            "\n",
            "\n",
            "--------------------------------------------------------------------------------------------------------------------------------------------------------------------------------------------------------\n",
            "\n",
            "\n",
            "[<h1 class=\"a-size-extra-large\">Avengers: Infinity War</h1>]\n",
            "Movie Name        : Avengers: Infinity War\n",
            "Movie Summary     : The Avengers and their allies must be willing to sacrifice all in an attempt to defeat the powerful Thanos before his blitz of devastation and ruin puts an end to the universe.\n",
            "Distributor       : Walt Disney Studios Motion Pictures\n",
            "Release Date      : Apr 27, 2018\n",
            "Running Time      : 2 hr 29 min\n",
            "Genre             : Action,Adventure,Sci-Fi\n",
            "Worldwide Gross   : $2,048,359,754\n",
            "\n",
            "\n",
            "--------------------------------------------------------------------------------------------------------------------------------------------------------------------------------------------------------\n",
            "\n",
            "\n",
            "[<h1 class=\"a-size-extra-large\">Incredibles 2</h1>]\n",
            "Movie Name        : Incredibles 2\n",
            "Movie Summary     : The Incredibles family takes on a new mission which involves a change in family roles: Bob Parr (Mr. Incredible) must manage the house while his wife Helen (Elastigirl) goes out to save the world.\n",
            "Distributor       : Walt Disney Studios Motion Pictures\n",
            "Release Date      : Jun 15, 2018\n",
            "Running Time      : 1 hr 58 min\n",
            "Genre             : Action,Adventure,Animation,Comedy,Family,Sci-Fi\n",
            "Worldwide Gross   : $1,242,805,359\n",
            "\n",
            "\n",
            "--------------------------------------------------------------------------------------------------------------------------------------------------------------------------------------------------------\n",
            "\n",
            "\n",
            "[<h1 class=\"a-size-extra-large\">Star Wars: Episode VIII - The Last Jedi</h1>]\n",
            "Movie Name        : Star Wars: Episode VIII - The Last Jedi\n",
            "Movie Summary     : The Star Wars saga continues as new heroes and galactic legends go on an epic adventure, unlocking mysteries of the Force and shocking revelations of the past.\n",
            "Distributor       : Walt Disney Studios Motion Pictures\n",
            "Release Date      : Dec 15, 2017\n",
            "Movie Budget      : $317,000,000\n",
            "Running Time      : 2 hr 32 min\n",
            "Genre             : Action,Adventure,Fantasy,Sci-Fi\n",
            "Worldwide Gross   : $1,332,539,889\n",
            "\n",
            "\n",
            "--------------------------------------------------------------------------------------------------------------------------------------------------------------------------------------------------------\n",
            "\n",
            "\n",
            "[<h1 class=\"a-size-extra-large\">Beauty and the Beast</h1>]\n",
            "Movie Name        : Beauty and the Beast\n",
            "Movie Summary     : A selfish Prince is cursed to become a monster for the rest of his life, unless he learns to fall in love with a beautiful young woman he keeps prisoner.\n",
            "Distributor       : Walt Disney Studios Motion Pictures\n",
            "Release Date      : Mar 17, 2017\n",
            "Movie Budget      : $160,000,000\n",
            "Running Time      : 2 hr 9 min\n",
            "Genre             : Adventure,Family,Fantasy,Musical,Romance\n",
            "Worldwide Gross   : $1,263,521,126\n",
            "\n",
            "\n",
            "--------------------------------------------------------------------------------------------------------------------------------------------------------------------------------------------------------\n",
            "\n",
            "\n",
            "[<h1 class=\"a-size-extra-large\">Wonder Woman</h1>]\n",
            "Movie Name        : Wonder Woman\n",
            "Movie Summary     : When a pilot crashes and tells of conflict in the outside world, Diana, an Amazonian warrior in training, leaves home to fight a war, discovering her full powers and true destiny.\n",
            "Distributor       : Warner Bros\n",
            "Release Date      : Jun 2, 2017\n",
            "Movie Budget      : $149,000,000\n",
            "Running Time      : 2 hr 21 min\n",
            "Genre             : Action,Adventure,Fantasy,Sci-Fi,War\n",
            "Worldwide Gross   : $821,847,012\n",
            "\n",
            "\n",
            "--------------------------------------------------------------------------------------------------------------------------------------------------------------------------------------------------------\n",
            "\n",
            "\n",
            "[<h1 class=\"a-size-extra-large\">Finding Dory</h1>]\n",
            "Movie Name        : Finding Dory\n",
            "Movie Summary     : Friendly but forgetful blue tang Dory begins a search for her long-lost parents, and everyone learns a few things about the real meaning of family along the way.\n",
            "Distributor       : Walt Disney Studios Motion Pictures\n",
            "Release Date      : Jun 17, 2016\n",
            "Running Time      : 1 hr 37 min\n",
            "Genre             : Adventure,Animation,Comedy,Family\n",
            "Worldwide Gross   : $1,028,570,889\n",
            "\n",
            "\n",
            "--------------------------------------------------------------------------------------------------------------------------------------------------------------------------------------------------------\n",
            "\n",
            "\n",
            "[<h1 class=\"a-size-extra-large\">Rogue One: A Star Wars Story</h1>]\n",
            "Movie Name        : Rogue One: A Star Wars Story\n",
            "Movie Summary     : In a time of conflict, a group of unlikely heroes band together on a mission to steal the plans to the Death Star, the Empire's ultimate weapon of destruction.\n",
            "Distributor       : Walt Disney Studios Motion Pictures\n",
            "Release Date      : Dec 16, 2016\n",
            "Movie Budget      : $200,000,000\n",
            "Running Time      : 2 hr 13 min\n",
            "Genre             : Action,Adventure,Sci-Fi\n",
            "Worldwide Gross   : $1,056,057,273\n",
            "\n",
            "\n",
            "--------------------------------------------------------------------------------------------------------------------------------------------------------------------------------------------------------\n",
            "\n",
            "\n",
            "[<h1 class=\"a-size-extra-large\">Captain America: Civil War</h1>]\n",
            "Movie Name        : Captain America: Civil War\n",
            "Movie Summary     : Political involvement in the Avengers' affairs causes a rift between Captain America and Iron Man.\n",
            "Distributor       : Walt Disney Studios Motion Pictures\n",
            "Release Date      : May 6, 2016\n",
            "Movie Budget      : $250,000,000\n",
            "Running Time      : 2 hr 27 min\n",
            "Genre             : Action,Adventure,Sci-Fi\n",
            "Worldwide Gross   : $1,153,296,293\n",
            "\n",
            "\n",
            "--------------------------------------------------------------------------------------------------------------------------------------------------------------------------------------------------------\n",
            "\n",
            "\n"
          ]
        }
      ]
    },
    {
      "cell_type": "code",
      "metadata": {
        "id": "VYi5_O1jASH_"
      },
      "source": [
        ""
      ],
      "execution_count": null,
      "outputs": []
    }
  ]
}